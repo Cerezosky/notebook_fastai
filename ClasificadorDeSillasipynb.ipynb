{
  "nbformat": 4,
  "nbformat_minor": 0,
  "metadata": {
    "colab": {
      "name": "ClasificadorDeSillasipynb",
      "provenance": []
    },
    "kernelspec": {
      "name": "python3",
      "display_name": "Python 3"
    },
    "language_info": {
      "name": "python"
    },
    "widgets": {
      "application/vnd.jupyter.widget-state+json": {
        "dba57707b161411e8b37874c046d8526": {
          "model_module": "@jupyter-widgets/controls",
          "model_name": "VBoxModel",
          "model_module_version": "1.5.0",
          "state": {
            "_view_name": "VBoxView",
            "_dom_classes": [],
            "_model_name": "VBoxModel",
            "_view_module": "@jupyter-widgets/controls",
            "_model_module_version": "1.5.0",
            "_view_count": null,
            "_view_module_version": "1.5.0",
            "box_style": "",
            "layout": "IPY_MODEL_3108aa62bc514307bcc739a5edde50c9",
            "_model_module": "@jupyter-widgets/controls",
            "children": [
              "IPY_MODEL_4a2ab8bfafaf4a50bec549db87765e80",
              "IPY_MODEL_79f710a7bbbf4c9bbd862a849931f4f7",
              "IPY_MODEL_ca7736828a4d4d049f70048f8ec00bd4",
              "IPY_MODEL_53b237c4e958428cb579499d9c9953a5",
              "IPY_MODEL_a4665394a62a4fa9b6efe26625cdd42f"
            ]
          }
        },
        "3108aa62bc514307bcc739a5edde50c9": {
          "model_module": "@jupyter-widgets/base",
          "model_name": "LayoutModel",
          "model_module_version": "1.2.0",
          "state": {
            "_view_name": "LayoutView",
            "grid_template_rows": null,
            "right": null,
            "justify_content": null,
            "_view_module": "@jupyter-widgets/base",
            "overflow": null,
            "_model_module_version": "1.2.0",
            "_view_count": null,
            "flex_flow": null,
            "width": null,
            "min_width": null,
            "border": null,
            "align_items": null,
            "bottom": null,
            "_model_module": "@jupyter-widgets/base",
            "top": null,
            "grid_column": null,
            "overflow_y": null,
            "overflow_x": null,
            "grid_auto_flow": null,
            "grid_area": null,
            "grid_template_columns": null,
            "flex": null,
            "_model_name": "LayoutModel",
            "justify_items": null,
            "grid_row": null,
            "max_height": null,
            "align_content": null,
            "visibility": null,
            "align_self": null,
            "height": null,
            "min_height": null,
            "padding": null,
            "grid_auto_rows": null,
            "grid_gap": null,
            "max_width": null,
            "order": null,
            "_view_module_version": "1.2.0",
            "grid_template_areas": null,
            "object_position": null,
            "object_fit": null,
            "grid_auto_columns": null,
            "margin": null,
            "display": null,
            "left": null
          }
        },
        "4a2ab8bfafaf4a50bec549db87765e80": {
          "model_module": "@jupyter-widgets/controls",
          "model_name": "LabelModel",
          "model_module_version": "1.5.0",
          "state": {
            "_view_name": "LabelView",
            "style": "IPY_MODEL_3a38c2fcc3524e6fbf472e1d60e847eb",
            "_dom_classes": [],
            "description": "",
            "_model_name": "LabelModel",
            "placeholder": "​",
            "_view_module": "@jupyter-widgets/controls",
            "_model_module_version": "1.5.0",
            "value": "Selecciona tu silla",
            "_view_count": null,
            "_view_module_version": "1.5.0",
            "description_tooltip": null,
            "_model_module": "@jupyter-widgets/controls",
            "layout": "IPY_MODEL_47367f27e30d4a6e9cabc883081ff6e2"
          }
        },
        "79f710a7bbbf4c9bbd862a849931f4f7": {
          "model_module": "@jupyter-widgets/controls",
          "model_name": "FileUploadModel",
          "model_module_version": "1.5.0",
          "state": {
            "_view_name": "FileUploadView",
            "_counter": 2,
            "style": "IPY_MODEL_a5a9087f82de42b799e725c00e70281d",
            "_dom_classes": [],
            "description": "Upload",
            "multiple": false,
            "_model_name": "FileUploadModel",
            "data": [
              null
            ],
            "button_style": "",
            "_view_module": "@jupyter-widgets/controls",
            "_model_module_version": "1.5.0",
            "accept": "",
            "_view_count": null,
            "disabled": false,
            "_view_module_version": "1.5.0",
            "error": "",
            "description_tooltip": null,
            "metadata": [
              {
                "name": "masaje.png",
                "type": "image/png",
                "size": 115675,
                "lastModified": 1646572948510
              }
            ],
            "_model_module": "@jupyter-widgets/controls",
            "layout": "IPY_MODEL_314df4a031d54b45ace4d65abd67d919",
            "icon": "upload"
          }
        },
        "ca7736828a4d4d049f70048f8ec00bd4": {
          "model_module": "@jupyter-widgets/controls",
          "model_name": "ButtonModel",
          "model_module_version": "1.5.0",
          "state": {
            "_view_name": "ButtonView",
            "style": "IPY_MODEL_88891e915ecc43a8b0c4a31092455676",
            "_dom_classes": [],
            "description": "Clasificar",
            "_model_name": "ButtonModel",
            "button_style": "",
            "_view_module": "@jupyter-widgets/controls",
            "_model_module_version": "1.5.0",
            "tooltip": "",
            "_view_count": null,
            "disabled": false,
            "_view_module_version": "1.5.0",
            "layout": "IPY_MODEL_81ae29565e50465eb800ccbbd8a093b7",
            "_model_module": "@jupyter-widgets/controls",
            "icon": ""
          }
        },
        "53b237c4e958428cb579499d9c9953a5": {
          "model_module": "@jupyter-widgets/output",
          "model_name": "OutputModel",
          "model_module_version": "1.0.0",
          "state": {
            "_view_name": "OutputView",
            "msg_id": "",
            "_dom_classes": [],
            "_model_name": "OutputModel",
            "outputs": [
              {
                "output_type": "display_data",
                "data": {
                  "image/png": "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\n",
                  "text/plain": "<PIL.Image.Image image mode=RGB size=125x128 at 0x7F8BA362D7D0>"
                },
                "metadata": {}
              }
            ],
            "_view_module": "@jupyter-widgets/output",
            "_model_module_version": "1.0.0",
            "_view_count": null,
            "_view_module_version": "1.0.0",
            "layout": "IPY_MODEL_e74240f62bbe4016a7523d48116542cf",
            "_model_module": "@jupyter-widgets/output"
          }
        },
        "a4665394a62a4fa9b6efe26625cdd42f": {
          "model_module": "@jupyter-widgets/controls",
          "model_name": "LabelModel",
          "model_module_version": "1.5.0",
          "state": {
            "_view_name": "LabelView",
            "style": "IPY_MODEL_50109d11264745d48f84099a83cd02e3",
            "_dom_classes": [],
            "description": "",
            "_model_name": "LabelModel",
            "placeholder": "​",
            "_view_module": "@jupyter-widgets/controls",
            "_model_module_version": "1.5.0",
            "value": "Predicción: masaje; Probabilidad: 0.9994",
            "_view_count": null,
            "_view_module_version": "1.5.0",
            "description_tooltip": null,
            "_model_module": "@jupyter-widgets/controls",
            "layout": "IPY_MODEL_0e247fb975644181b23d047d7a22e763"
          }
        },
        "3a38c2fcc3524e6fbf472e1d60e847eb": {
          "model_module": "@jupyter-widgets/controls",
          "model_name": "DescriptionStyleModel",
          "model_module_version": "1.5.0",
          "state": {
            "_view_name": "StyleView",
            "_model_name": "DescriptionStyleModel",
            "description_width": "",
            "_view_module": "@jupyter-widgets/base",
            "_model_module_version": "1.5.0",
            "_view_count": null,
            "_view_module_version": "1.2.0",
            "_model_module": "@jupyter-widgets/controls"
          }
        },
        "47367f27e30d4a6e9cabc883081ff6e2": {
          "model_module": "@jupyter-widgets/base",
          "model_name": "LayoutModel",
          "model_module_version": "1.2.0",
          "state": {
            "_view_name": "LayoutView",
            "grid_template_rows": null,
            "right": null,
            "justify_content": null,
            "_view_module": "@jupyter-widgets/base",
            "overflow": null,
            "_model_module_version": "1.2.0",
            "_view_count": null,
            "flex_flow": null,
            "width": null,
            "min_width": null,
            "border": null,
            "align_items": null,
            "bottom": null,
            "_model_module": "@jupyter-widgets/base",
            "top": null,
            "grid_column": null,
            "overflow_y": null,
            "overflow_x": null,
            "grid_auto_flow": null,
            "grid_area": null,
            "grid_template_columns": null,
            "flex": null,
            "_model_name": "LayoutModel",
            "justify_items": null,
            "grid_row": null,
            "max_height": null,
            "align_content": null,
            "visibility": null,
            "align_self": null,
            "height": null,
            "min_height": null,
            "padding": null,
            "grid_auto_rows": null,
            "grid_gap": null,
            "max_width": null,
            "order": null,
            "_view_module_version": "1.2.0",
            "grid_template_areas": null,
            "object_position": null,
            "object_fit": null,
            "grid_auto_columns": null,
            "margin": null,
            "display": null,
            "left": null
          }
        },
        "a5a9087f82de42b799e725c00e70281d": {
          "model_module": "@jupyter-widgets/controls",
          "model_name": "ButtonStyleModel",
          "model_module_version": "1.5.0",
          "state": {
            "_view_name": "StyleView",
            "_model_name": "ButtonStyleModel",
            "_view_module": "@jupyter-widgets/base",
            "_model_module_version": "1.5.0",
            "_view_count": null,
            "button_color": null,
            "font_weight": "",
            "_view_module_version": "1.2.0",
            "_model_module": "@jupyter-widgets/controls"
          }
        },
        "314df4a031d54b45ace4d65abd67d919": {
          "model_module": "@jupyter-widgets/base",
          "model_name": "LayoutModel",
          "model_module_version": "1.2.0",
          "state": {
            "_view_name": "LayoutView",
            "grid_template_rows": null,
            "right": null,
            "justify_content": null,
            "_view_module": "@jupyter-widgets/base",
            "overflow": null,
            "_model_module_version": "1.2.0",
            "_view_count": null,
            "flex_flow": null,
            "width": null,
            "min_width": null,
            "border": null,
            "align_items": null,
            "bottom": null,
            "_model_module": "@jupyter-widgets/base",
            "top": null,
            "grid_column": null,
            "overflow_y": null,
            "overflow_x": null,
            "grid_auto_flow": null,
            "grid_area": null,
            "grid_template_columns": null,
            "flex": null,
            "_model_name": "LayoutModel",
            "justify_items": null,
            "grid_row": null,
            "max_height": null,
            "align_content": null,
            "visibility": null,
            "align_self": null,
            "height": null,
            "min_height": null,
            "padding": null,
            "grid_auto_rows": null,
            "grid_gap": null,
            "max_width": null,
            "order": null,
            "_view_module_version": "1.2.0",
            "grid_template_areas": null,
            "object_position": null,
            "object_fit": null,
            "grid_auto_columns": null,
            "margin": null,
            "display": null,
            "left": null
          }
        },
        "88891e915ecc43a8b0c4a31092455676": {
          "model_module": "@jupyter-widgets/controls",
          "model_name": "ButtonStyleModel",
          "model_module_version": "1.5.0",
          "state": {
            "_view_name": "StyleView",
            "_model_name": "ButtonStyleModel",
            "_view_module": "@jupyter-widgets/base",
            "_model_module_version": "1.5.0",
            "_view_count": null,
            "button_color": null,
            "font_weight": "",
            "_view_module_version": "1.2.0",
            "_model_module": "@jupyter-widgets/controls"
          }
        },
        "81ae29565e50465eb800ccbbd8a093b7": {
          "model_module": "@jupyter-widgets/base",
          "model_name": "LayoutModel",
          "model_module_version": "1.2.0",
          "state": {
            "_view_name": "LayoutView",
            "grid_template_rows": null,
            "right": null,
            "justify_content": null,
            "_view_module": "@jupyter-widgets/base",
            "overflow": null,
            "_model_module_version": "1.2.0",
            "_view_count": null,
            "flex_flow": null,
            "width": null,
            "min_width": null,
            "border": null,
            "align_items": null,
            "bottom": null,
            "_model_module": "@jupyter-widgets/base",
            "top": null,
            "grid_column": null,
            "overflow_y": null,
            "overflow_x": null,
            "grid_auto_flow": null,
            "grid_area": null,
            "grid_template_columns": null,
            "flex": null,
            "_model_name": "LayoutModel",
            "justify_items": null,
            "grid_row": null,
            "max_height": null,
            "align_content": null,
            "visibility": null,
            "align_self": null,
            "height": null,
            "min_height": null,
            "padding": null,
            "grid_auto_rows": null,
            "grid_gap": null,
            "max_width": null,
            "order": null,
            "_view_module_version": "1.2.0",
            "grid_template_areas": null,
            "object_position": null,
            "object_fit": null,
            "grid_auto_columns": null,
            "margin": null,
            "display": null,
            "left": null
          }
        },
        "50109d11264745d48f84099a83cd02e3": {
          "model_module": "@jupyter-widgets/controls",
          "model_name": "DescriptionStyleModel",
          "model_module_version": "1.5.0",
          "state": {
            "_view_name": "StyleView",
            "_model_name": "DescriptionStyleModel",
            "description_width": "",
            "_view_module": "@jupyter-widgets/base",
            "_model_module_version": "1.5.0",
            "_view_count": null,
            "_view_module_version": "1.2.0",
            "_model_module": "@jupyter-widgets/controls"
          }
        },
        "0e247fb975644181b23d047d7a22e763": {
          "model_module": "@jupyter-widgets/base",
          "model_name": "LayoutModel",
          "model_module_version": "1.2.0",
          "state": {
            "_view_name": "LayoutView",
            "grid_template_rows": null,
            "right": null,
            "justify_content": null,
            "_view_module": "@jupyter-widgets/base",
            "overflow": null,
            "_model_module_version": "1.2.0",
            "_view_count": null,
            "flex_flow": null,
            "width": null,
            "min_width": null,
            "border": null,
            "align_items": null,
            "bottom": null,
            "_model_module": "@jupyter-widgets/base",
            "top": null,
            "grid_column": null,
            "overflow_y": null,
            "overflow_x": null,
            "grid_auto_flow": null,
            "grid_area": null,
            "grid_template_columns": null,
            "flex": null,
            "_model_name": "LayoutModel",
            "justify_items": null,
            "grid_row": null,
            "max_height": null,
            "align_content": null,
            "visibility": null,
            "align_self": null,
            "height": null,
            "min_height": null,
            "padding": null,
            "grid_auto_rows": null,
            "grid_gap": null,
            "max_width": null,
            "order": null,
            "_view_module_version": "1.2.0",
            "grid_template_areas": null,
            "object_position": null,
            "object_fit": null,
            "grid_auto_columns": null,
            "margin": null,
            "display": null,
            "left": null
          }
        },
        "e74240f62bbe4016a7523d48116542cf": {
          "model_module": "@jupyter-widgets/base",
          "model_name": "LayoutModel",
          "model_module_version": "1.2.0",
          "state": {
            "_view_name": "LayoutView",
            "grid_template_rows": null,
            "right": null,
            "justify_content": null,
            "_view_module": "@jupyter-widgets/base",
            "overflow": null,
            "_model_module_version": "1.2.0",
            "_view_count": null,
            "flex_flow": null,
            "width": null,
            "min_width": null,
            "border": null,
            "align_items": null,
            "bottom": null,
            "_model_module": "@jupyter-widgets/base",
            "top": null,
            "grid_column": null,
            "overflow_y": null,
            "overflow_x": null,
            "grid_auto_flow": null,
            "grid_area": null,
            "grid_template_columns": null,
            "flex": null,
            "_model_name": "LayoutModel",
            "justify_items": null,
            "grid_row": null,
            "max_height": null,
            "align_content": null,
            "visibility": null,
            "align_self": null,
            "height": null,
            "min_height": null,
            "padding": null,
            "grid_auto_rows": null,
            "grid_gap": null,
            "max_width": null,
            "order": null,
            "_view_module_version": "1.2.0",
            "grid_template_areas": null,
            "object_position": null,
            "object_fit": null,
            "grid_auto_columns": null,
            "margin": null,
            "display": null,
            "left": null
          }
        }
      }
    }
  },
  "cells": [
    {
      "cell_type": "code",
      "execution_count": 1,
      "metadata": {
        "colab": {
          "base_uri": "https://localhost:8080/"
        },
        "id": "ihqHYqeAfj9V",
        "outputId": "f28c0c2f-eb24-4a37-97ae-10e23551334a"
      },
      "outputs": [
        {
          "output_type": "stream",
          "name": "stdout",
          "text": [
            "\u001b[K     |████████████████████████████████| 720 kB 5.0 MB/s \n",
            "\u001b[K     |████████████████████████████████| 1.2 MB 41.3 MB/s \n",
            "\u001b[K     |████████████████████████████████| 189 kB 53.7 MB/s \n",
            "\u001b[K     |████████████████████████████████| 48 kB 5.2 MB/s \n",
            "\u001b[K     |████████████████████████████████| 55 kB 4.1 MB/s \n",
            "\u001b[K     |████████████████████████████████| 51 kB 293 kB/s \n",
            "\u001b[K     |████████████████████████████████| 558 kB 42.4 MB/s \n",
            "\u001b[K     |████████████████████████████████| 130 kB 55.8 MB/s \n",
            "\u001b[?25hMounted at /content/gdrive\n"
          ]
        }
      ],
      "source": [
        "# !pip install -Uqq fastbook\n",
        "# import fastbook\n",
        "# fastbook.setup_book()\n",
        "\n",
        "from fastbook import *\n",
        "from fastai.vision.widgets import *\n",
        "import os"
      ]
    },
    {
      "cell_type": "code",
      "source": [
        "path = Path()"
      ],
      "metadata": {
        "colab": {
          "base_uri": "https://localhost:8080/"
        },
        "id": "PmqVdmRUg6Y6",
        "outputId": "7c7f864f-d9a1-4c83-b63b-614d4bee6554"
      },
      "execution_count": 4,
      "outputs": [
        {
          "output_type": "execute_result",
          "data": {
            "text/plain": [
              "(#1) [Path('export.pkl')]"
            ]
          },
          "metadata": {},
          "execution_count": 4
        }
      ]
    },
    {
      "cell_type": "code",
      "source": [
        "learn_inf = load_learner(path/'export.pkl', cpu=True)\n",
        "btn_upload = widgets.FileUpload()\n",
        "out_pl = widgets.Output()\n",
        "lbl_pred = widgets.Label()\n",
        "btn_run = widgets.Button(description='Clasificar')\n",
        "\n",
        "def on_click_classify(change):\n",
        "    img = PILImage.create(btn_upload.data[-1])\n",
        "    out_pl.clear_output()\n",
        "    with out_pl: display(img.to_thumb(128,128))\n",
        "    pred,pred_idx,probs = learn_inf.predict(img)\n",
        "    lbl_pred.value = f'Predicción: {pred}; Probabilidad: {probs[pred_idx]:.04f}'\n",
        "\n",
        "btn_run.on_click(on_click_classify)\n",
        "\n",
        "VBox([widgets.Label('Selecciona tu silla'), \n",
        "      btn_upload, btn_run, out_pl, lbl_pred])"
      ],
      "metadata": {
        "colab": {
          "base_uri": "https://localhost:8080/",
          "height": 273,
          "referenced_widgets": [
            "dba57707b161411e8b37874c046d8526",
            "3108aa62bc514307bcc739a5edde50c9",
            "4a2ab8bfafaf4a50bec549db87765e80",
            "79f710a7bbbf4c9bbd862a849931f4f7",
            "ca7736828a4d4d049f70048f8ec00bd4",
            "53b237c4e958428cb579499d9c9953a5",
            "a4665394a62a4fa9b6efe26625cdd42f",
            "3a38c2fcc3524e6fbf472e1d60e847eb",
            "47367f27e30d4a6e9cabc883081ff6e2",
            "a5a9087f82de42b799e725c00e70281d",
            "314df4a031d54b45ace4d65abd67d919",
            "88891e915ecc43a8b0c4a31092455676",
            "81ae29565e50465eb800ccbbd8a093b7",
            "50109d11264745d48f84099a83cd02e3",
            "0e247fb975644181b23d047d7a22e763",
            "e74240f62bbe4016a7523d48116542cf"
          ]
        },
        "id": "SG7e5olef8Sg",
        "outputId": "e6b30ff9-05ef-4b53-c189-6afe9ad80c96"
      },
      "execution_count": 9,
      "outputs": [
        {
          "output_type": "display_data",
          "data": {
            "application/vnd.jupyter.widget-view+json": {
              "model_id": "dba57707b161411e8b37874c046d8526",
              "version_minor": 0,
              "version_major": 2
            },
            "text/plain": [
              "VBox(children=(Label(value='Selecciona tu silla'), FileUpload(value={}, description='Upload'), Button(descript…"
            ]
          },
          "metadata": {}
        },
        {
          "output_type": "display_data",
          "data": {
            "text/html": [
              "\n",
              "<style>\n",
              "    /* Turns off some styling */\n",
              "    progress {\n",
              "        /* gets rid of default border in Firefox and Opera. */\n",
              "        border: none;\n",
              "        /* Needs to be in here for Safari polyfill so background images work as expected. */\n",
              "        background-size: auto;\n",
              "    }\n",
              "    .progress-bar-interrupted, .progress-bar-interrupted::-webkit-progress-bar {\n",
              "        background: #F44336;\n",
              "    }\n",
              "</style>\n"
            ],
            "text/plain": [
              "<IPython.core.display.HTML object>"
            ]
          },
          "metadata": {}
        },
        {
          "output_type": "display_data",
          "data": {
            "text/html": [
              ""
            ],
            "text/plain": [
              "<IPython.core.display.HTML object>"
            ]
          },
          "metadata": {}
        },
        {
          "output_type": "display_data",
          "data": {
            "text/html": [
              "\n",
              "<style>\n",
              "    /* Turns off some styling */\n",
              "    progress {\n",
              "        /* gets rid of default border in Firefox and Opera. */\n",
              "        border: none;\n",
              "        /* Needs to be in here for Safari polyfill so background images work as expected. */\n",
              "        background-size: auto;\n",
              "    }\n",
              "    .progress-bar-interrupted, .progress-bar-interrupted::-webkit-progress-bar {\n",
              "        background: #F44336;\n",
              "    }\n",
              "</style>\n"
            ],
            "text/plain": [
              "<IPython.core.display.HTML object>"
            ]
          },
          "metadata": {}
        },
        {
          "output_type": "display_data",
          "data": {
            "text/html": [
              ""
            ],
            "text/plain": [
              "<IPython.core.display.HTML object>"
            ]
          },
          "metadata": {}
        }
      ]
    },
    {
      "cell_type": "code",
      "source": [
        ""
      ],
      "metadata": {
        "id": "Xr5FG_KrgzeB"
      },
      "execution_count": null,
      "outputs": []
    }
  ]
}